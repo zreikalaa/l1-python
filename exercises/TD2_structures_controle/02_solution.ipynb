{
 "cells": [
  {
   "cell_type": "markdown",
   "metadata": {
    "slideshow": {
     "slide_type": "slide"
    }
   },
   "source": [
    "# TD 2: Les structures de contrôle\n",
    "\n",
    "---\n",
    "\n",
    "## 0. Récupération des nouveaux documents\n",
    "\n",
    "Les sujets de TD ainsi que les supports de cours sont publiés en ligne au fur et à mesure sur l'espace github original [https://github.com/uvsq-info/l1-python](https://github.com/uvsq-info/l1-python). Au moment où vous avez fait le fork de cet espace sur votre espace personnel, il est probable que tous les contenus n'étaient pas présents. Pour compléter votre espace, deux solutions sont possibles:\n",
    "\n",
    "1. en ligne de commande dans le terminal, en suivant la procédure de la section *Intégrer les mises à jour du projet original* du fichier [README.md](https://github.com/uvsq-info/l1-python/blob/master/README.md#int%C3%A9grer-les-mises-%C3%A0-jour-du-projet-original)\n",
    "2. aller sur la page du projet original [https://github.com/uvsq-info/l1-python](https://github.com/uvsq-info/l1-python), et cliquer sur le bouton vert `Code` en haut à droite. Choisir `download ZIP`, puis extraire l'ensemble des nouveaux fichiers vers votre projet personnel local. Vous pouvez ensuite sauvegarder ces ajouts dans votre espace github personnel en suivant la procédure habituelle.\n"
   ]
  },
  {
   "cell_type": "markdown",
   "metadata": {
    "slideshow": {
     "slide_type": "slide"
    }
   },
   "source": [
    "---\n",
    "\n",
    "## 1. Premiers exercices avec les structures conditionnelles\n",
    "\n",
    "**Exercice 1:**\n",
    "\n",
    "1. Soit *num1 = 15* et *num2 = 5*. Ecrire un programme qui affiche *Factors!* si l'un des nombres est un facteur de l'autre (c'est-à-dire qu'il divise l'autre nombre). Si aucun des nombres n'est un facteur de l'autre, le programme n'affiche rien.\n",
    "2. Changer le code que vous avez écrit de telle sorte qu'il affiche toujours *Factors!* si un nombre est un facteur de l'autre, mais qui affiche aussi *Not factors!* si aucun des nombres n'est un facteur de l'autre."
   ]
  },
  {
   "cell_type": "code",
   "execution_count": null,
   "metadata": {
    "slideshow": {
     "slide_type": "notes"
    }
   },
   "outputs": [],
   "source": [
    "# Solution Q1.\n",
    "#A number is a factor of another number if the modulus of\n",
    "#the two equals zero: that means one divides into the other\n",
    "#with no remainder.\n",
    "num1 = 15\n",
    "num2 = 5\n",
    "if num1 % num2 == 0 or num2 % num1 == 0:\n",
    "    print(\"Factors!\")"
   ]
  },
  {
   "cell_type": "code",
   "execution_count": null,
   "metadata": {
    "slideshow": {
     "slide_type": "notes"
    }
   },
   "outputs": [],
   "source": [
    "#Solution Q2.\n",
    "num1 = 15\n",
    "num2 = 5\n",
    "if num1 % num2 == 0 or num2 % num1 == 0:\n",
    "    print(\"Factors!\")\n",
    "else:\n",
    "    print(\"Not factors!\")"
   ]
  },
  {
   "cell_type": "markdown",
   "metadata": {
    "slideshow": {
     "slide_type": "slide"
    }
   },
   "source": [
    "**Exercice 2:**\n",
    "    \n",
    "Soit *state = \"Georgia\"*. Ecrire un programme qui permet d'afficher un message spécifique en fonction de la variable *state* :  \n",
    "* \"School isn't cancelled.\" si nous sommes à New Jersey,  \n",
    "* \"School is postponed.\" si nous sommes à North Carolina,\n",
    "* \"School is cancelled!\" si nous sommes à Georgia,  \n",
    "* \"School's status is unknown\" si nous ne sommes pas dans un des trois états précédemment mentionnés."
   ]
  },
  {
   "cell_type": "code",
   "execution_count": null,
   "metadata": {
    "slideshow": {
     "slide_type": "notes"
    }
   },
   "outputs": [],
   "source": [
    "#Solution\n",
    "state = \"Georgia\"\n",
    "if state == \"New Jersey\" : \n",
    "    print(\"School isn't cancelled.\")\n",
    "elif state == \"North Carolina\" : \n",
    "    print(\"School is postponed.\")\n",
    "elif state == \"Georgia\" : \n",
    "    print(\"School is cancelled!\")\n",
    "else : \n",
    "    print(\"School's status is unknown\")"
   ]
  },
  {
   "cell_type": "markdown",
   "metadata": {
    "slideshow": {
     "slide_type": "slide"
    }
   },
   "source": [
    "**Exercice 3:**\n",
    "\n",
    "Ecrire un programme pour découvrir le signe du zodiaque chinois pour une année donnée. Le signe du zodiaque chinois est basé sur un cycle de 12 ans et chaque année de ce cycle est représentée par un animal :\n",
    "* 0: monkey\n",
    "* 1: rooster\n",
    "* 2: dog\n",
    "* 3: pig\n",
    "* 4: rat\n",
    "* 5: ox\n",
    "* 6: tiger\n",
    "* 7: rabbit\n",
    "* 8: dragon\n",
    "* 9: snake\n",
    "* 10: horse\n",
    "* 11: sheep\n",
    "\n",
    "La valeur de l'année % 12 détermine le signe du zodiaque. Par exemple, 1900 est l'année du *rat* puisque 1900 % 12 est 4."
   ]
  },
  {
   "cell_type": "code",
   "execution_count": null,
   "metadata": {
    "slideshow": {
     "slide_type": "notes"
    }
   },
   "outputs": [],
   "source": [
    "year = input(\"Enter a year: \")\n",
    "year = int(year)\n",
    "\n",
    "zodiacYear = year % 12\n",
    "\n",
    "if zodiacYear == 0 :\n",
    "    print(\"monkey\")\n",
    "elif zodiacYear == 1 :\n",
    "    print(\"rooster\")\n",
    "elif zodiacYear == 2 :\n",
    "    print(\"dog\")\n",
    "elif zodiacYear == 3 :\n",
    "    print(\"pig\") \n",
    "elif zodiacYear == 4 :\n",
    "    print(\"rat\")\n",
    "elif zodiacYear == 5 :\n",
    "    print(\"ox\")\n",
    "elif zodiacYear == 6 :\n",
    "    print(\"tiger\")\n",
    "elif zodiacYear == 7 :\n",
    "    print(\"rabbit\")\n",
    "elif zodiacYear == 8 :\n",
    "    print(\"dragon\")\n",
    "elif zodiacYear == 9 :\n",
    "    print(\"snake\")\n",
    "elif zodiacYear == 10 :\n",
    "    print(\"horse\")\n",
    "else:\n",
    "    print(\"sheep\")"
   ]
  },
  {
   "cell_type": "markdown",
   "metadata": {
    "slideshow": {
     "slide_type": "slide"
    }
   },
   "source": [
    "**Exercice 4:**\n",
    "\n",
    "Soit *temperature = -3.7* et *celsius = True*. *celsius* est une variable booléenne qui indique si la température est en Celsius; si c'est *False*, alors la température donnée est en Fahrenheit. Ecrire un premier programme en utilisant *if-else* seulement qui permet d'afficher *Freezing* si les valeurs données représentent une température très basse, et *Not freezing* si ce n'est pas le cas. En Celsius, on considère qu'il fait très froid lorsque la température est inférieure ou égale à 0 degré. En Fahrenheit, on considère qu'il fait très froid lorsque la température est inférieure ou égale à 32 degrés. Proposer une seconde solution en utilisant *if-elif-else* à ce même problème."
   ]
  },
  {
   "cell_type": "code",
   "execution_count": null,
   "metadata": {
    "slideshow": {
     "slide_type": "notes"
    }
   },
   "outputs": [],
   "source": [
    "# Solution 1 \n",
    "temperature = -3.7 \n",
    "celsius = True\n",
    "if (celsius and temperature <= 0) or (not celsius and temperature <= 32):\n",
    "    print(\"Freezing\")\n",
    "else:\n",
    "    print(\"Not freezing\")"
   ]
  },
  {
   "cell_type": "code",
   "execution_count": null,
   "metadata": {
    "slideshow": {
     "slide_type": "notes"
    }
   },
   "outputs": [],
   "source": [
    "# Solution 2  \n",
    "temperature = -3.7 \n",
    "celsius = True\n",
    "if celsius and temperature <= 0:\n",
    "    print(\"Freezing\")\n",
    "elif not celsius and temperature <= 32:\n",
    "    print(\"Freezing\")\n",
    "else:\n",
    "    print(\"Not freezing\")"
   ]
  },
  {
   "cell_type": "markdown",
   "metadata": {
    "slideshow": {
     "slide_type": "slide"
    }
   },
   "source": [
    "**Exercice 5:**\n",
    "    \n",
    "Ecrire un programme qui permet de déterminer si une année est bissextile ou non en utilisant une seule instruction *if-else*. Une année *A* est bissextile si *A* est divisible par 4. Elle ne l’est cependant pas si *A* est un multiple\n",
    "de 100, à moins que *A* ne soit multiple de 400.    "
   ]
  },
  {
   "cell_type": "code",
   "execution_count": null,
   "metadata": {
    "slideshow": {
     "slide_type": "notes"
    }
   },
   "outputs": [],
   "source": [
    "a = int(input('Enter a year:'))\n",
    "if (a % 4 == 0 and a % 100 != 0) or (a % 400 == 0) :\n",
    "    print(a,\"is a leap year\")\n",
    "else:\n",
    "    print(a,\"is not a leap year\")"
   ]
  },
  {
   "source": [
    "---\n",
    "\n",
    "## 2. Premiers exercices avec les structures itératives\n",
    "\n",
    "**Exercice 6:**\n",
    "\n",
    "1. Ecrire un programme qui permet d'afficher tous les nombres entre 1 et 10 (bornes incluses).\n",
    "2. Ecrire un programme se limitant à la boucle *for* qui permet d'afficher tous les nombres pairs entre 1 et 20 (bornes incluses). Proposer une deuxième solution en incluant une structure conditionnelle."
   ],
   "cell_type": "markdown",
   "metadata": {}
  },
  {
   "cell_type": "code",
   "execution_count": null,
   "metadata": {},
   "outputs": [],
   "source": [
    "# Solution Q1.\n",
    "\n",
    "for i in range(1, 11) :\n",
    "    print(\"i =\", i)"
   ]
  },
  {
   "cell_type": "code",
   "execution_count": null,
   "metadata": {},
   "outputs": [],
   "source": [
    "#Solution Q2.\n",
    "\n",
    "for i in range(2, 21, 2) :\n",
    "    print(\"i =\", i, \"is even\")"
   ]
  },
  {
   "cell_type": "code",
   "execution_count": null,
   "metadata": {},
   "outputs": [],
   "source": [
    "#Solution Q2.\n",
    "\n",
    "for i in range(1, 21) :\n",
    "    if i % 2 == 0 :\n",
    "        print(\"i =\", i, \"is even\")"
   ]
  },
  {
   "source": [
    "**Exercice 7:**\n",
    "    \n",
    "1. Ecrire un programme qui demande à l'utilisateur de saisir *n* nombres, *n* étant choisi par l'utilisateur, puis d'afficher la moyenne de ces nombres.\n",
    "\n",
    "2. Même question, mais l'utilisateur ne choisit pas à l'avance le nombre *n*, la procédure s'arrête quand il saisit le nombre -1.\n"
   ],
   "cell_type": "markdown",
   "metadata": {}
  },
  {
   "cell_type": "code",
   "execution_count": null,
   "metadata": {},
   "outputs": [],
   "source": [
    "#Solution 1\n",
    "n = int(input(\"Enter a number: \"))\n",
    "total = 0\n",
    "\n",
    "for i in range(1, n + 1) :\n",
    "    number = int(input(\"Enter number \" + str(i) + \" : \"))\n",
    "    total += number\n",
    "    \n",
    "print(\"The average of the\", str(i), \"numbers is\", total/i)"
   ]
  },
  {
   "cell_type": "code",
   "execution_count": null,
   "metadata": {},
   "outputs": [],
   "source": [
    "#Solution 2\n",
    "mark = int(input(\"Enter a number: \"))\n",
    "total = 0\n",
    "nb_marks = 0\n",
    "\n",
    "while mark != -1 :\n",
    "    total += mark\n",
    "    nb_marks += 1\n",
    "    mark = int(input(\"Enter a number: \")) \n",
    "    \n",
    "if nb_marks != 0 :   \n",
    "    print(\"The average of the\", str(nb_marks), \"numbers is\", total/nb_marks)\n",
    "else:\n",
    "    print(\"There were no given inputs to calculate the average!\")"
   ]
  },
  {
   "source": [
    "**Exercice 8:**\n",
    "\n",
    "Ecrire un programme qui permet de calculer le factoriel d'un nombre positif donné par l'utlisateur selon la formule suivante : \n",
    "n! = 1 x 2 x ... x n.  \n",
    "\n",
    "1. Une première version en utilisant la boucle *for*\n",
    "2. Une seconde version en utilisant la boucle *while*"
   ],
   "cell_type": "markdown",
   "metadata": {}
  },
  {
   "cell_type": "code",
   "execution_count": null,
   "metadata": {},
   "outputs": [],
   "source": [
    "# Solution 1\n",
    "\n",
    "n = int(input(\"Enter a number: \"))\n",
    "\n",
    "while n < 0 :\n",
    "    n = int(input(\"Enter a number: \"))\n",
    "\n",
    "result = 1\n",
    "for i in range(1, n + 1) :\n",
    "    result *= i\n",
    "    \n",
    "print(n, \"! =\", result)"
   ]
  },
  {
   "cell_type": "code",
   "execution_count": null,
   "metadata": {},
   "outputs": [],
   "source": [
    "# Solution 2\n",
    "\n",
    "n = int(input(\"Enter a number : \"))\n",
    "while n < 0 :\n",
    "    n = int(input(\"Enter a number : \"))\n",
    "    \n",
    "result = 1\n",
    "counter = 2\n",
    "\n",
    "while counter <= n :\n",
    "    result *= counter\n",
    "    counter += 1\n",
    "    \n",
    "print(n, \"! =\", result)"
   ]
  },
  {
   "cell_type": "markdown",
   "metadata": {
    "slideshow": {
     "slide_type": "slide"
    }
   },
   "source": [
    "---\n",
    "\n",
    "## 3. Pour aller plus loin\n",
    "\n",
    "**Excercice 9:**\n",
    "\n",
    "Ecrire un programme qui permet de connaître le jour de naissance de l'utilisateur en posant cinq questions.\n",
    "Chaque question demande si le jour est dans l'un des cinq ensembles suivants :\n",
    "\n",
    "* Set 1: [1 3 5 7 9 11 13 15 17 19 21 23 25 27 29 31]\n",
    "* Set 2: [2 3 6 7 10 11 14 15 18 19 22 23 26 27 30 31]\n",
    "* Set 3: [4 5 6 7 12 13 14 15 20 21 22 23 28 29 30 31]\n",
    "* Set 4: [8 9 10 11 12 13 14 15 24 25 26 27 28 29 30 31]\n",
    "* Set 5: [16 17 18 19 20 21 22 23 24 25 26 27 28 29 30 31]\n",
    "    \n",
    "\n",
    "Le jour de naissance est la somme des premiers nombres dans les ensembles où le jour apparaît. Par exemple,\n",
    "si le jour de naissance est 19, il apparaît dans Set 1, Set 2 et Set 5. Les premiers chiffres de ces trois ensembles sont 1, 2 et 16. Leur somme est 19."
   ]
  },
  {
   "cell_type": "code",
   "execution_count": null,
   "metadata": {
    "slideshow": {
     "slide_type": "notes"
    }
   },
   "outputs": [],
   "source": [
    "day = 0\n",
    "question1 = \"Is your birthday in Set 1?\\n\" + \\\n",
    "\" 1 3 5 7\\n\" + \\\n",
    "\" 9 11 13 15\\n\" + \\\n",
    "\"17 19 21 23\\n\" + \\\n",
    "\"25 27 29 31\" + \\\n",
    "\"\\nEnter 0 for No and 1 for Yes: \"\n",
    "answer = int(input(question1))\n",
    "\n",
    "if answer == 1 :\n",
    "    day += 1\n",
    "\n",
    "question2 = \"Is your birthday in Set2?\\n\" + \\\n",
    "\" 2 3 6 7\\n\" + \\\n",
    "\"10 11 14 15\\n\" + \\\n",
    "\"18 19 22 23\\n\" + \\\n",
    "\"26 27 30 31\" + \\\n",
    "\"\\nEnter 0 for No and 1 for Yes: \"\n",
    "answer = int(input(question2))\n",
    "\n",
    "if answer == 1 :\n",
    "    day += 2\n",
    "\n",
    "question3 = \"Is your birthday in Set3?\\n\" + \\\n",
    "\" 4 5 6 7\\n\" + \\\n",
    "\"12 13 14 15\\n\" + \\\n",
    "\"20 21 22 23\\n\" + \\\n",
    "\"28 29 30 31\" + \\\n",
    "\"\\nEnter 0 for No and 1 for Yes: \"\n",
    "answer = int(input(question3))\n",
    "\n",
    "if answer == 1 :\n",
    "    day += 4\n",
    "\n",
    "question4 = \"Is your birthday in Set4?\\n\" + \\\n",
    "\" 8 9 10 11\\n\" + \\\n",
    "\"12 13 14 15\\n\" + \\\n",
    "\"24 25 26 27\\n\" + \\\n",
    "\"28 29 30 31\" + \\\n",
    "\"\\nEnter 0 for No and 1 for Yes: \"\n",
    "answer = int(input(question4))\n",
    "\n",
    "if answer == 1 :\n",
    "    day += 8\n",
    "\n",
    "question5 = \"Is your birthday in Set5?\\n\" + \\\n",
    "\"16 17 18 19\\n\"+ \\\n",
    "\"20 21 22 23\\n\" + \\\n",
    "\"24 25 26 27\\n\" + \\\n",
    "\"28 29 30 31\" + \\\n",
    "\"\\nEnter 0 for No and 1 for Yes: \"\n",
    "answer = int(input(question5))\n",
    "\n",
    "if answer == 1 :\n",
    "    day += 16\n",
    "\n",
    "print(\"\\nYour birthday is \"+ str(day) + \"!\")"
   ]
  },
  {
   "cell_type": "markdown",
   "metadata": {
    "slideshow": {
     "slide_type": "slide"
    }
   },
   "source": [
    "**Excercice 10:**\n",
    "\n",
    "Ecrire un programme qui permet de génèrer de manière aléatoire un nombre à deux chiffres, invite l'utilisateur à saisir un nombre à deux chiffres et détermine si l'utilisateur gagne selon les règles suivantes :\n",
    "* Si l'entrée de l'utilisateur correspond à la loterie (le nombre généré aléatoirement) dans l'ordre exact, la récompense est de 10 000€.\n",
    "* Sinon, si les deux chiffres entrés par l'utilisateur correspondent aux deux chiffres du numéro de loterie, la récompense est de 3 000€.\n",
    "* Sinon, si un chiffre dans l'entrée de l'utilisateur correspond à un chiffre dans le numéro de loterie, la récompense est de 1 000€.\n",
    "\n",
    "**Astuce :** Utiliser la fonction **random.randint(0, 99)** pour génèrer de manière aléatoire un nombre à deux chiffres. Cette fonction doit être accompagné par **import random** comme première instruction dans le code."
   ]
  },
  {
   "cell_type": "code",
   "execution_count": null,
   "metadata": {
    "slideshow": {
     "slide_type": "notes"
    }
   },
   "outputs": [],
   "source": [
    "#Solution:\n",
    "\n",
    "import random\n",
    "\n",
    "lottery = random.randint(0, 99)\n",
    "\n",
    "guess = int(input(\"Enter your lottery pick (two digits): \"))\n",
    "\n",
    "# Get digits from lottery\n",
    "lotteryDigit1 = lottery // 10\n",
    "lotteryDigit2 = lottery % 10\n",
    "\n",
    "# Get digits from guess\n",
    "guessDigit1 = guess // 10\n",
    "guessDigit2 = guess % 10\n",
    "\n",
    "print(\"The lottery number is\", lottery)\n",
    "\n",
    "# Check the guess\n",
    "if guess == lottery:\n",
    "    print(\"Exact match: you win 10,000€\")\n",
    "elif (guessDigit2 == lotteryDigit1 and \\\n",
    "      guessDigit1 == lotteryDigit2):\n",
    "    print(\"Match all digits: you win 3,000€\")\n",
    "elif (guessDigit1 == lotteryDigit1 or guessDigit1 == lotteryDigit2 or guessDigit2 == lotteryDigit1 or guessDigit2 == lotteryDigit2):\n",
    "    print(\"Match one digit: you win 1,000€\")\n",
    "else:\n",
    "    print(\"Sorry, no match\")"
   ]
  },
  {
   "source": [
    "**Exercice 11:**\n",
    "    \n",
    "Ecrire un programme qui permet de calculer la somme des chiffres d'un entier *n* donné. Le nombre *n* doit être compris entre 10 et 20 (bornes incluses)."
   ],
   "cell_type": "markdown",
   "metadata": {}
  },
  {
   "cell_type": "code",
   "execution_count": null,
   "metadata": {},
   "outputs": [],
   "source": [
    "#Solution\n",
    "\n",
    "n = int(input(\"Enter a number: \"))\n",
    "while (n < 10 or n > 20) :\n",
    "    n = int(input(\"Enter a number: \"))\n",
    "\n",
    "total = 0\n",
    "                  \n",
    "while n != 0 :\n",
    "    x = n % 10\n",
    "    total += x\n",
    "    n /= 10\n",
    "                  \n",
    "print(\"The sum is \", total)"
   ]
  },
  {
   "source": [
    "**Exercice 12:**\n",
    "\n",
    "1. Ecrire un programme qui permet de générer aléatoirement deux nombres entre 0 et 9, de calculer leurs différences (en valeur absolue), puis d'inviter l'utilisateur à répondre à la question suivante *que vaut abs(number1 - number2)?*. Le programme doit permettre à l'utilisateur de répondre plusieurs fois jusqu'à la saisie de la bonne réponse.\n",
    "2. Modifier le programme précédent de telle sorte qu'il génère cinq occurences à la suite invitant à répondre à la question précédente. A la fin, le programme affiche le nombre moyen de tentatives qu'il a fallu à l'utilisateur pour répondre à une question."
   ],
   "cell_type": "markdown",
   "metadata": {}
  },
  {
   "cell_type": "code",
   "execution_count": 3,
   "metadata": {
    "tags": []
   },
   "outputs": [
    {
     "output_type": "stream",
     "name": "stdout",
     "text": "You got it!\n"
    }
   ],
   "source": [
    "import random\n",
    "\n",
    "number1 = random.randint(0, 9)\n",
    "number2 = random.randint(0, 9)\n",
    "\n",
    "if number1 < number2:\n",
    "    number1, number2 = number2, number1\n",
    "\n",
    "answer = int(input(\"What is \" + str(number1) + \" - \" + str(number2) + \"? \"))\n",
    "\n",
    "while number1 - number2 != answer :\n",
    "    answer = int(input(\"Wrong answer. Try again. What is \" + str(number1) + \" - \" + str(number2) + \"? \"))\n",
    "\n",
    "print(\"You got it!\")"
   ]
  },
  {
   "cell_type": "code",
   "execution_count": 1,
   "metadata": {
    "tags": []
   },
   "outputs": [
    {
     "output_type": "stream",
     "name": "stdout",
     "text": [
      "Tentative numéro 1\n",
      "Tentative numéro 2\n"
     ]
    },
    {
     "output_type": "error",
     "ename": "ValueError",
     "evalue": "invalid literal for int() with base 10: ''",
     "traceback": [
      "\u001b[1;31m---------------------------------------------------------------------------\u001b[0m",
      "\u001b[1;31mValueError\u001b[0m                                Traceback (most recent call last)",
      "\u001b[1;32m<ipython-input-1-ad2761fd7ad2>\u001b[0m in \u001b[0;36m<module>\u001b[1;34m\u001b[0m\n\u001b[0;32m      8\u001b[0m     \u001b[1;32mif\u001b[0m \u001b[0mnumber1\u001b[0m \u001b[1;33m<\u001b[0m \u001b[0mnumber2\u001b[0m\u001b[1;33m:\u001b[0m\u001b[1;33m\u001b[0m\u001b[1;33m\u001b[0m\u001b[0m\n\u001b[0;32m      9\u001b[0m         \u001b[0mnumber1\u001b[0m\u001b[1;33m,\u001b[0m \u001b[0mnumber2\u001b[0m \u001b[1;33m=\u001b[0m \u001b[0mnumber2\u001b[0m\u001b[1;33m,\u001b[0m \u001b[0mnumber1\u001b[0m\u001b[1;33m\u001b[0m\u001b[1;33m\u001b[0m\u001b[0m\n\u001b[1;32m---> 10\u001b[1;33m     \u001b[0manswer\u001b[0m \u001b[1;33m=\u001b[0m \u001b[0mint\u001b[0m\u001b[1;33m(\u001b[0m\u001b[0minput\u001b[0m\u001b[1;33m(\u001b[0m\u001b[1;34m\"What is \"\u001b[0m \u001b[1;33m+\u001b[0m \u001b[0mstr\u001b[0m\u001b[1;33m(\u001b[0m\u001b[0mnumber1\u001b[0m\u001b[1;33m)\u001b[0m \u001b[1;33m+\u001b[0m \u001b[1;34m\" - \"\u001b[0m \u001b[1;33m+\u001b[0m \u001b[0mstr\u001b[0m\u001b[1;33m(\u001b[0m\u001b[0mnumber2\u001b[0m\u001b[1;33m)\u001b[0m \u001b[1;33m+\u001b[0m \u001b[1;34m\"? \"\u001b[0m\u001b[1;33m)\u001b[0m\u001b[1;33m)\u001b[0m\u001b[1;33m\u001b[0m\u001b[1;33m\u001b[0m\u001b[0m\n\u001b[0m\u001b[0;32m     11\u001b[0m     \u001b[0mcpt\u001b[0m \u001b[1;33m+=\u001b[0m \u001b[1;36m1\u001b[0m\u001b[1;33m\u001b[0m\u001b[1;33m\u001b[0m\u001b[0m\n\u001b[0;32m     12\u001b[0m     \u001b[1;32mwhile\u001b[0m \u001b[0mnumber1\u001b[0m \u001b[1;33m-\u001b[0m \u001b[0mnumber2\u001b[0m \u001b[1;33m!=\u001b[0m \u001b[0manswer\u001b[0m \u001b[1;33m:\u001b[0m\u001b[1;33m\u001b[0m\u001b[1;33m\u001b[0m\u001b[0m\n",
      "\u001b[1;31mValueError\u001b[0m: invalid literal for int() with base 10: ''"
     ]
    }
   ],
   "source": [
    "import random\n",
    "\n",
    "cpt = 0\n",
    "for i in range(5):\n",
    "    print(\"Tentative numéro\", i + 1)\n",
    "    number1 = random.randint(0, 9)\n",
    "    number2 = random.randint(0, 9)\n",
    "    if number1 < number2:\n",
    "        number1, number2 = number2, number1\n",
    "    answer = int(input(\"What is \" + str(number1) + \" - \" + str(number2) + \"? \"))\n",
    "    cpt += 1\n",
    "    while number1 - number2 != answer :\n",
    "        answer = int(input(\"Wrong answer. Try again. What is \" + str(number1) + \" - \" + str(number2) + \"? \"))\n",
    "        cpt += 1\n",
    "print(\"Il a fallu\", cpt / 5, \"tentatives en moyenne.\")\n"
   ]
  },
  {
   "source": [
    "**Exercice 13:**\n",
    "\n",
    "Ecrire un programme qui permet de calculer le nombre de mots dans une phrase saisie par l'utilisateur."
   ],
   "cell_type": "markdown",
   "metadata": {}
  },
  {
   "cell_type": "code",
   "execution_count": 9,
   "metadata": {
    "tags": []
   },
   "outputs": [
    {
     "output_type": "stream",
     "name": "stdout",
     "text": "There are 3 words in coucou ca va\n"
    }
   ],
   "source": [
    "# Solution  \n",
    "sentence = input(\"Enter a sentence: \")\n",
    "nb_spaces = 0\n",
    "\n",
    "for character in sentence : \n",
    "    if character == \" \" :\n",
    "        nb_spaces += 1\n",
    "        \n",
    "print(\"There are\", nb_spaces + 1, \"words in\", sentence)    "
   ]
  },
  {
   "cell_type": "markdown",
   "metadata": {
    "slideshow": {
     "slide_type": "slide"
    }
   },
   "source": [
    "---\n",
    "\n",
    "## 4. Pour s'entraîner\n",
    "\n",
    "**Exercice 14:**\n",
    "    \n",
    "Soit la variable my_input = \"zoophysiology\". Ecrire un script qui permet d'afficher l'un des messages suivants en fonction du nombre maximum de *o* consécutifs dans la variable *my_input*. Par exemple, le script doit afficher \"I like studying birds! I want to become an ornithologist!\" parce qu'il y a deux *o* consécutifs, même s'il y a aussi des *o* individual.\n",
    "Ignorer les *o* majuscules - recherchez que les *o* minuscules.\n",
    "\n",
    "* Si \"o\" apparaît trois fois ou plus de suite, afficher le message \"I like going to the zoo!\"  \n",
    "* Si \"o\" apparaît deux fois, afficher le message \"I like studying birds! I want to become an ornithologist!\"  \n",
    "* Si \"o\" apparaît une seule fois, afficher le message \"I like studying fish! I want to become an ichthyologist!\"  \n",
    "* Si \"o\" n'apparaît pas dans la variable *my_input*, afficher le message \"I miss going to the zoo!\"  \n",
    "\n",
    "**Astuce :** Utiliser l'opérateur **in** qui renvoie **True** si la première chaîne se trouve dans la deuxième chaîne. "
   ]
  },
  {
   "cell_type": "code",
   "execution_count": null,
   "metadata": {
    "slideshow": {
     "slide_type": "notes"
    }
   },
   "outputs": [],
   "source": [
    "# Solution \n",
    "my_input = \"zoophysiology\"\n",
    "if \"ooo\" in my_input :\n",
    "    print(\"I like going to the zoo!\")\n",
    "elif \"oo\" in my_input :\n",
    "    print(\"I like studying birds! I want to become an ornithologist!\")\n",
    "elif \"o\" in my_input :\n",
    "    print(\"I like studying fish! I am to become an ichthyologist!\")\n",
    "else:\n",
    "    print(\"I miss going to the zoo!\")"
   ]
  },
  {
   "cell_type": "markdown",
   "metadata": {
    "slideshow": {
     "slide_type": "slide"
    }
   },
   "source": [
    "**Exercice 15:**\n",
    "    \n",
    "Créer quatre variables nommées *team_1* et *team_2*, représentant deux noms d'équipes, et *team_1_score* et *team_2_score*, représentant les scores de ces deux équipes. \n",
    "Une équipe gagne si son score est supérieur à l'autre score de l'autre équipe.\n",
    " \n",
    "Ecrire un premier script qui permet d'afficher les messages suivants selon les valeurs entrées, ceci en utilisant seulement les quatres variables créées :\n",
    "* Si une équipe bat l'autre, affichez: \"[winner] beat [loser] by [margin]\"\n",
    "* Si aucune des équipes n'a gagné, affichez: \"[team_1] played [team_2] and it was a tie\"\n",
    "\n",
    "Ecrire un deuxième script qui permet d'afficher les mêmes messages mais en ajoutant trois variables de plus :\n",
    "* La variable *winner* pour définir l'équipe gagnante  \n",
    "* La variable *loser* pour définier l'équipe perdante  \n",
    "* La variable *margin* pour définir la différence entre les deux scores \n"
   ]
  },
  {
   "cell_type": "code",
   "execution_count": null,
   "metadata": {
    "slideshow": {
     "slide_type": "notes"
    }
   },
   "outputs": [],
   "source": [
    "# Solution 1\n",
    "print(\"Enter the first team name:\")\n",
    "team_1 = input()\n",
    "\n",
    "print(\"Enter the first team score:\")\n",
    "team_1_score = input()\n",
    "team_1_score = int(team_1_score)\n",
    "\n",
    "team_2 = input(\"Enter the second team name:\")\n",
    "team_2_score = input(\"Enter the second team score:\")\n",
    "team_2_score = int(team_2_score)\n",
    "\n",
    "if team_1_score > team_2_score :\n",
    "    print(team_1,\"beat\", team_2, \"by\", team_1_score - team_2_score)\n",
    "elif team_1_score < team_2_score :\n",
    "    print (team_2,\"beat\", team_1, \"by\", team_2_score - team_1_score)\n",
    "else:\n",
    "    print(team_1, \"played\", team_2, \"and it was a tie\")"
   ]
  },
  {
   "cell_type": "code",
   "execution_count": null,
   "metadata": {
    "slideshow": {
     "slide_type": "notes"
    }
   },
   "outputs": [],
   "source": [
    "# Solution 2 :\n",
    "print(\"Enter the first team name:\")\n",
    "team_1 = input()\n",
    "\n",
    "print(\"Enter the first team score:\")\n",
    "team_1_score = input()\n",
    "team_1_score = int(team_1_score)\n",
    "\n",
    "team_2 = input(\"Enter the second team name:\")\n",
    "team_2_score = input(\"Enter the second team score:\")\n",
    "team_2_score = int(team_2_score)\n",
    "\n",
    "if team_1_score > team_2_score :\n",
    "    winner = team_1\n",
    "    loser = team_2\n",
    "    margin = team_2_score - team_1_score\n",
    "else :\n",
    "    winner = team_2\n",
    "    loser = team_1\n",
    "    margin = team_2_score - team_1_score\n",
    "\n",
    "if margin == 0 :\n",
    "    print(team_1, \"played\", team_2, \"and it was a tie\")\n",
    "else :\n",
    "    print(winner, \"beat\", loser, \"by\", margin)"
   ]
  },
  {
   "cell_type": "markdown",
   "metadata": {
    "slideshow": {
     "slide_type": "slide"
    }
   },
   "source": [
    "**Exercice 16:**\n",
    "    \n",
    "L'Indice de Masse Corporelle (IMC) permet d'estimer le poids idéal en fonction de la taille. Son calcul correspond au poids en kilogrammes divisé par le carré de la taille en mètre (IMC = poids en kg/taille² en m). Le chiffre obtenu permet d'estimer la corpulence et éventuellement le surpoids ou l'obésité chez l'adulte, homme ou femme.\n",
    "L'interprétation de l'IMC pour les personnes de 16 ans et plus est la suivante :\n",
    "* Moins de 18.5: Underweight\n",
    "* Entre 18.5 et 24.9: Normal\n",
    "* Entre 25.0 et 29.9: Overweight\n",
    "* Plus que 30.0: Obese\n",
    "\n",
    "Ecrire un programme qui permet de saisir un poids en *pounds* et une taille en *inches*, de calculer et d'afficher l'IMC à deux valeurs après la virgule, et d'afficher l'interprétation la plus adéquate. Notez qu'un *pound* équivaut à 0,45359237 kilogrammes et qu'un *inch* équivaut à 0,0254 mètre.  \n",
    "\n",
    "**Astuce :** Pour afficher deux valeurs après la virgule, utilisez la fonction **format(nom_variable, \".2f\")**. Exemple : **print('La moyenne est :', format(moyenne, \".2f\"))**"
   ]
  },
  {
   "cell_type": "code",
   "execution_count": null,
   "metadata": {
    "slideshow": {
     "slide_type": "notes"
    }
   },
   "outputs": [],
   "source": [
    "#Solution :\n",
    "weight = int(input(\"Enter weight in pounds: \"))\n",
    "\n",
    "height = int(input(\"Enter height in inches: \"))\n",
    "\n",
    "KILOGRAMS_PER_POUND = 0.45359237 # Constant\n",
    "METERS_PER_INCH = 0.0254 # Constant\n",
    "\n",
    "\n",
    "weightInKilograms = weight * KILOGRAMS_PER_POUND\n",
    "heightInMeters = height * METERS_PER_INCH\n",
    "IMC = weightInKilograms / (heightInMeters * heightInMeters)\n",
    "\n",
    "print(\"IMC is\", format(IMC, \".2f\"))\n",
    "if IMC < 18.5:\n",
    "    print(\"Underweight\")\n",
    "elif IMC < 25:\n",
    "    print(\"Normal\")\n",
    "elif IMC < 30:\n",
    "    print(\"Overweight\")\n",
    "else:\n",
    "    print(\"Obese\")"
   ]
  },
  {
   "source": [
    "**Exercice 17:**\n",
    "\n",
    "Ecrire un programme qui affiche un triangle d'étoiles de taille donnée, par exemple si on entre 6, le programme affiche:\n",
    "```\n",
    "*\n",
    "**\n",
    "***\n",
    "****\n",
    "*****\n",
    "******\n",
    "```"
   ],
   "cell_type": "markdown",
   "metadata": {}
  },
  {
   "cell_type": "code",
   "execution_count": 11,
   "metadata": {
    "tags": []
   },
   "outputs": [
    {
     "output_type": "stream",
     "name": "stdout",
     "text": "*\n**\n***\n****\n*****\n******\n*******\n********\n"
    }
   ],
   "source": [
    "n = int(input(\"Choisir la taille du triangle\"))\n",
    "for i in range(n):\n",
    "    print((i + 1) * \"*\")"
   ]
  },
  {
   "source": [
    "**Exercice 18:**\n",
    "\n",
    "Même exercice mais cette fois la sortie est\n",
    "```\n",
    "     *\n",
    "    **         \n",
    "   ***\n",
    "  ****\n",
    " *****\n",
    "******\n",
    "```"
   ],
   "cell_type": "markdown",
   "metadata": {}
  },
  {
   "cell_type": "code",
   "execution_count": 12,
   "metadata": {
    "tags": []
   },
   "outputs": [
    {
     "output_type": "stream",
     "name": "stdout",
     "text": "      *\n     **\n    ***\n   ****\n  *****\n ******\n*******\n"
    }
   ],
   "source": [
    "n = int(input(\"Choisir la taille du triangle\"))\n",
    "for i in range(n):\n",
    "    print((n - i - 1) * \" \" + (i + 1) * \"*\")"
   ]
  },
  {
   "source": [
    "**Exercice 19:**\n",
    "\n",
    "Ecrire un programme qui calcule, étant donné un entier *n* rentré par l'utilisateur, la plus grande puissance de *n* inférieure à un million."
   ],
   "cell_type": "markdown",
   "metadata": {}
  },
  {
   "cell_type": "code",
   "execution_count": 23,
   "metadata": {
    "tags": []
   },
   "outputs": [
    {
     "output_type": "stream",
     "name": "stdout",
     "text": "La plus grande puissance de 2 inférieure à un million est 19\n"
    }
   ],
   "source": [
    "n = int(input(\"Choisir un entier\"))\n",
    "i = 0\n",
    "while(n ** i <= 1000000):\n",
    "    i += 1\n",
    "print(\"La plus grande puissance de\", n, \"inférieure à un million est\", i - 1)"
   ]
  }
 ],
 "metadata": {
  "celltoolbar": "Diaporama",
  "kernelspec": {
   "name": "Python 3.8.3 32-bit ('base': conda)",
   "display_name": "Python 3.8.3 32-bit ('base': conda)",
   "metadata": {
    "interpreter": {
     "hash": "51b368fb4463420b3280bdcd69da06525f32e11aacaee4194b1137855f4207ff"
    }
   }
  },
  "language_info": {
   "codemirror_mode": {
    "name": "ipython",
    "version": 3
   },
   "file_extension": ".py",
   "mimetype": "text/x-python",
   "name": "python",
   "nbconvert_exporter": "python",
   "pygments_lexer": "ipython3",
   "version": "3.8.3-final"
  }
 },
 "nbformat": 4,
 "nbformat_minor": 4
}